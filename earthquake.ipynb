{
  "nbformat": 4,
  "nbformat_minor": 0,
  "metadata": {
    "colab": {
      "name": "earthquake.ipynb",
      "version": "0.3.2",
      "provenance": [],
      "collapsed_sections": [],
      "include_colab_link": true
    },
    "kernelspec": {
      "name": "python3",
      "display_name": "Python 3"
    },
    "accelerator": "GPU"
  },
  "cells": [
    {
      "cell_type": "markdown",
      "metadata": {
        "id": "view-in-github",
        "colab_type": "text"
      },
      "source": [
        "<a href=\"https://colab.research.google.com/github/alexeyphilippov/NN_Grid_search/blob/master/earthquake.ipynb\" target=\"_parent\"><img src=\"https://colab.research.google.com/assets/colab-badge.svg\" alt=\"Open In Colab\"/></a>"
      ]
    },
    {
      "metadata": {
        "id": "iBJicpIu8vYE",
        "colab_type": "code",
        "colab": {
          "base_uri": "https://localhost:8080/",
          "height": 51
        },
        "outputId": "d7d69e4f-e806-4e4a-d8e1-b862dbf50cc8"
      },
      "cell_type": "code",
      "source": [
        "!pip install -U -q PyDrive\n",
        "import os\n",
        "import pandas as pd\n",
        "from pydrive.auth import GoogleAuth\n",
        "from pydrive.drive import GoogleDrive\n",
        "from google.colab import auth\n",
        "from oauth2client.client import GoogleCredentials\n",
        "\n",
        "# 1. Authenticate and create the PyDrive client.\n",
        "auth.authenticate_user()\n",
        "gauth = GoogleAuth()\n",
        "gauth.credentials = GoogleCredentials.get_application_default()\n",
        "drive = GoogleDrive(gauth)"
      ],
      "execution_count": 3,
      "outputs": [
        {
          "output_type": "stream",
          "text": [
            "\u001b[?25l\r\u001b[K    1% |▎                               | 10kB 22.2MB/s eta 0:00:01\r\u001b[K    2% |▋                               | 20kB 2.3MB/s eta 0:00:01\r\u001b[K    3% |█                               | 30kB 3.3MB/s eta 0:00:01\r\u001b[K    4% |█▎                              | 40kB 2.2MB/s eta 0:00:01\r\u001b[K    5% |█▋                              | 51kB 2.7MB/s eta 0:00:01\r\u001b[K    6% |██                              | 61kB 3.1MB/s eta 0:00:01\r\u001b[K    7% |██▎                             | 71kB 3.6MB/s eta 0:00:01\r\u001b[K    8% |██▋                             | 81kB 4.1MB/s eta 0:00:01\r\u001b[K    9% |███                             | 92kB 4.5MB/s eta 0:00:01\r\u001b[K    10% |███▎                            | 102kB 3.5MB/s eta 0:00:01\r\u001b[K    11% |███▋                            | 112kB 3.6MB/s eta 0:00:01\r\u001b[K    12% |████                            | 122kB 5.0MB/s eta 0:00:01\r\u001b[K    13% |████▎                           | 133kB 5.0MB/s eta 0:00:01\r\u001b[K    14% |████▋                           | 143kB 9.4MB/s eta 0:00:01\r\u001b[K    15% |█████                           | 153kB 9.4MB/s eta 0:00:01\r\u001b[K    16% |█████▎                          | 163kB 9.5MB/s eta 0:00:01\r\u001b[K    17% |█████▋                          | 174kB 9.6MB/s eta 0:00:01\r\u001b[K    18% |██████                          | 184kB 9.6MB/s eta 0:00:01\r\u001b[K    19% |██████▎                         | 194kB 9.6MB/s eta 0:00:01\r\u001b[K    20% |██████▋                         | 204kB 42.4MB/s eta 0:00:01\r\u001b[K    21% |███████                         | 215kB 10.2MB/s eta 0:00:01\r\u001b[K    22% |███████▎                        | 225kB 10.2MB/s eta 0:00:01\r\u001b[K    23% |███████▋                        | 235kB 10.3MB/s eta 0:00:01\r\u001b[K    24% |████████                        | 245kB 10.3MB/s eta 0:00:01\r\u001b[K    25% |████████▎                       | 256kB 10.3MB/s eta 0:00:01\r\u001b[K    26% |████████▋                       | 266kB 9.9MB/s eta 0:00:01\r\u001b[K    27% |█████████                       | 276kB 10.0MB/s eta 0:00:01\r\u001b[K    29% |█████████▎                      | 286kB 10.0MB/s eta 0:00:01\r\u001b[K    30% |█████████▋                      | 296kB 10.0MB/s eta 0:00:01\r\u001b[K    31% |██████████                      | 307kB 10.2MB/s eta 0:00:01\r\u001b[K    32% |██████████▎                     | 317kB 43.9MB/s eta 0:00:01\r\u001b[K    33% |██████████▋                     | 327kB 43.6MB/s eta 0:00:01\r\u001b[K    34% |███████████                     | 337kB 44.7MB/s eta 0:00:01\r\u001b[K    35% |███████████▎                    | 348kB 41.5MB/s eta 0:00:01\r\u001b[K    36% |███████████▋                    | 358kB 42.6MB/s eta 0:00:01\r\u001b[K    37% |████████████                    | 368kB 50.7MB/s eta 0:00:01\r\u001b[K    38% |████████████▎                   | 378kB 50.9MB/s eta 0:00:01\r\u001b[K    39% |████████████▋                   | 389kB 51.7MB/s eta 0:00:01\r\u001b[K    40% |█████████████                   | 399kB 13.1MB/s eta 0:00:01\r\u001b[K    41% |█████████████▎                  | 409kB 12.9MB/s eta 0:00:01\r\u001b[K    42% |█████████████▋                  | 419kB 13.0MB/s eta 0:00:01\r\u001b[K    43% |██████████████                  | 430kB 13.1MB/s eta 0:00:01\r\u001b[K    44% |██████████████▎                 | 440kB 12.9MB/s eta 0:00:01\r\u001b[K    45% |██████████████▋                 | 450kB 12.7MB/s eta 0:00:01\r\u001b[K    46% |███████████████                 | 460kB 12.6MB/s eta 0:00:01\r\u001b[K    47% |███████████████▎                | 471kB 12.7MB/s eta 0:00:01\r\u001b[K    48% |███████████████▋                | 481kB 12.7MB/s eta 0:00:01\r\u001b[K    49% |████████████████                | 491kB 12.7MB/s eta 0:00:01\r\u001b[K    50% |████████████████▎               | 501kB 48.0MB/s eta 0:00:01\r\u001b[K    51% |████████████████▋               | 512kB 47.0MB/s eta 0:00:01\r\u001b[K    52% |█████████████████               | 522kB 46.8MB/s eta 0:00:01\r\u001b[K    53% |█████████████████▎              | 532kB 46.1MB/s eta 0:00:01\r\u001b[K    54% |█████████████████▋              | 542kB 48.8MB/s eta 0:00:01\r\u001b[K    55% |██████████████████              | 552kB 59.0MB/s eta 0:00:01\r\u001b[K    57% |██████████████████▎             | 563kB 57.9MB/s eta 0:00:01\r\u001b[K    58% |██████████████████▋             | 573kB 57.5MB/s eta 0:00:01\r\u001b[K    59% |███████████████████             | 583kB 58.2MB/s eta 0:00:01\r\u001b[K    60% |███████████████████▎            | 593kB 57.6MB/s eta 0:00:01\r\u001b[K    61% |███████████████████▋            | 604kB 57.0MB/s eta 0:00:01\r\u001b[K    62% |████████████████████            | 614kB 62.3MB/s eta 0:00:01\r\u001b[K    63% |████████████████████▎           | 624kB 61.9MB/s eta 0:00:01\r\u001b[K    64% |████████████████████▋           | 634kB 63.6MB/s eta 0:00:01\r\u001b[K    65% |█████████████████████           | 645kB 64.3MB/s eta 0:00:01\r\u001b[K    66% |█████████████████████▎          | 655kB 64.6MB/s eta 0:00:01\r\u001b[K    67% |█████████████████████▋          | 665kB 50.7MB/s eta 0:00:01\r\u001b[K    68% |██████████████████████          | 675kB 15.7MB/s eta 0:00:01\r\u001b[K    69% |██████████████████████▎         | 686kB 15.4MB/s eta 0:00:01\r\u001b[K    70% |██████████████████████▋         | 696kB 15.3MB/s eta 0:00:01\r\u001b[K    71% |███████████████████████         | 706kB 15.2MB/s eta 0:00:01\r\u001b[K    72% |███████████████████████▎        | 716kB 15.1MB/s eta 0:00:01\r\u001b[K    73% |███████████████████████▋        | 727kB 14.8MB/s eta 0:00:01\r\u001b[K    74% |████████████████████████        | 737kB 14.6MB/s eta 0:00:01\r\u001b[K    75% |████████████████████████▎       | 747kB 14.6MB/s eta 0:00:01\r\u001b[K    76% |████████████████████████▋       | 757kB 14.7MB/s eta 0:00:01\r\u001b[K    77% |████████████████████████▉       | 768kB 15.7MB/s eta 0:00:01\r\u001b[K    78% |█████████████████████████▏      | 778kB 52.1MB/s eta 0:00:01\r\u001b[K    79% |█████████████████████████▌      | 788kB 53.7MB/s eta 0:00:01\r\u001b[K    80% |█████████████████████████▉      | 798kB 55.4MB/s eta 0:00:01\r\u001b[K    81% |██████████████████████████▏     | 808kB 56.3MB/s eta 0:00:01\r\u001b[K    82% |██████████████████████████▌     | 819kB 55.9MB/s eta 0:00:01\r\u001b[K    83% |██████████████████████████▉     | 829kB 60.2MB/s eta 0:00:01\r\u001b[K    85% |███████████████████████████▏    | 839kB 63.4MB/s eta 0:00:01\r\u001b[K    86% |███████████████████████████▌    | 849kB 60.5MB/s eta 0:00:01\r\u001b[K    87% |███████████████████████████▉    | 860kB 52.0MB/s eta 0:00:01\r\u001b[K    88% |████████████████████████████▏   | 870kB 50.5MB/s eta 0:00:01\r\u001b[K    89% |████████████████████████████▌   | 880kB 49.9MB/s eta 0:00:01\r\u001b[K    90% |████████████████████████████▉   | 890kB 50.1MB/s eta 0:00:01\r\u001b[K    91% |█████████████████████████████▏  | 901kB 49.3MB/s eta 0:00:01\r\u001b[K    92% |█████████████████████████████▌  | 911kB 51.2MB/s eta 0:00:01\r\u001b[K    93% |█████████████████████████████▉  | 921kB 51.9MB/s eta 0:00:01\r\u001b[K    94% |██████████████████████████████▏ | 931kB 52.1MB/s eta 0:00:01\r\u001b[K    95% |██████████████████████████████▌ | 942kB 52.3MB/s eta 0:00:01\r\u001b[K    96% |██████████████████████████████▉ | 952kB 53.9MB/s eta 0:00:01\r\u001b[K    97% |███████████████████████████████▏| 962kB 64.1MB/s eta 0:00:01\r\u001b[K    98% |███████████████████████████████▌| 972kB 67.5MB/s eta 0:00:01\r\u001b[K    99% |███████████████████████████████▉| 983kB 65.5MB/s eta 0:00:01\r\u001b[K    100% |████████████████████████████████| 993kB 23.6MB/s \n",
            "\u001b[?25h  Building wheel for PyDrive (setup.py) ... \u001b[?25ldone\n",
            "\u001b[?25h"
          ],
          "name": "stdout"
        }
      ]
    },
    {
      "metadata": {
        "id": "RxyGTHRSmHFA",
        "colab_type": "code",
        "colab": {
          "base_uri": "https://localhost:8080/",
          "height": 34
        },
        "outputId": "7012388d-70f7-489e-dafd-8e5af09252a5"
      },
      "cell_type": "code",
      "source": [
        "link_to_both = 'https://drive.google.com/open?id=1OHFGBUQJKMB9eYChhuWiybI75CEmSHgp'\n",
        "id_to_both = '1OHFGBUQJKMB9eYChhuWiybI75CEmSHgp'\n",
        "local_download_path = os.path.expanduser('~/data')\n",
        "try:\n",
        "  os.makedirs(local_download_path)\n",
        "except: pass\n",
        "\n",
        "file_names = []\n",
        "for file in drive.ListFile(\n",
        "    {'q': \"'1OHFGBUQJKMB9eYChhuWiybI75CEmSHgp' in parents\"}).GetList():\n",
        "  fname = os.path.join(local_download_path, file['title'])\n",
        "  f_ = drive.CreateFile({'id': file['id']})\n",
        "  f_.GetContentFile(fname)\n",
        "  file_names.append(file['id'])\n",
        " \n",
        "print('Amount of pictures: ', len(file_names))"
      ],
      "execution_count": 6,
      "outputs": [
        {
          "output_type": "stream",
          "text": [
            "Amount of pictures:  9485\n"
          ],
          "name": "stdout"
        }
      ]
    },
    {
      "metadata": {
        "id": "Ab8FhZEhGwOL",
        "colab_type": "code",
        "colab": {}
      },
      "cell_type": "code",
      "source": [
        "import os\n",
        "import numpy as np\n",
        "import pandas as pd\n",
        "import matplotlib.pyplot as plt\n",
        "from random import shuffle\n",
        "import matplotlib.image as mpimg\n",
        "import torch\n",
        "import torchvision.transforms as transforms\n",
        "from torch.utils.data import Dataset\n",
        "from torch.utils.data.sampler import SubsetRandomSampler\n"
      ],
      "execution_count": 0,
      "outputs": []
    },
    {
      "metadata": {
        "id": "if9yjLOtGwOV",
        "colab_type": "code",
        "outputId": "e00d1d96-500a-429e-efbd-25cb98b9850a",
        "colab": {
          "base_uri": "https://localhost:8080/",
          "height": 34
        }
      },
      "cell_type": "code",
      "source": [
        "seed = 42\n",
        "np.random.seed(seed)\n",
        "torch.manual_seed(seed)"
      ],
      "execution_count": 9,
      "outputs": [
        {
          "output_type": "execute_result",
          "data": {
            "text/plain": [
              "<torch._C.Generator at 0x7f93e5826550>"
            ]
          },
          "metadata": {
            "tags": []
          },
          "execution_count": 9
        }
      ]
    },
    {
      "metadata": {
        "id": "FiVyy3moGwOf",
        "colab_type": "code",
        "colab": {}
      },
      "cell_type": "code",
      "source": [
        "train_capacity = 8040\n",
        "test_capacity = 1400\n",
        "class EarthQuakeDataset(Dataset):\n",
        "\n",
        "    def __init__(self, train:bool, both_path, transform=None):\n",
        "        \"\"\"\n",
        "        Args:\n",
        "            pos_dir (string): Directory with all the images with earthquakes.\n",
        "            neg_dir (string): Directory with all the images without earthquakes.\n",
        "            transform (callable, optional): Optional transform to be applied\n",
        "                on a sample.\n",
        "        \"\"\"\n",
        "        self.transform = transform\n",
        "        \n",
        "        id = '1d8JBl_qAPf7eMzGvQp9jK1fJxNq-P3Wy' \n",
        "        downloaded = drive.CreateFile({'id':id}) \n",
        "        downloaded.GetContentFile('image_map.csv')  \n",
        "        self.map_ = pd.read_csv('image_map.csv', sep = '±')\n",
        "        \n",
        "        self.map_.path = self.map_.path.apply(lambda x: both_path+'/'+x)\n",
        "        \n",
        "        if train:\n",
        "            self.img_paths = self.map_.path[:train_capacity]\n",
        "            self.labels = self.map_.label[:train_capacity]\n",
        "        elif train != True:\n",
        "            self.img_paths = self.map_.path[train_capacity:train_capacity+test_capacity].tolist()\n",
        "            self.labels = self.map_.label[train_capacity:train_capacity+test_capacity].tolist()\n",
        "        else:\n",
        "            raise Exception('Parameter train must be set bull')\n",
        "    def __len__(self):\n",
        "        return len(self.labels)\n",
        "\n",
        "    def __getitem__(self, idx):\n",
        "        \n",
        "        image = mpimg.imread(self.img_paths[idx])[:-1, :-1]\n",
        "        label = self.labels[idx]\n",
        "\n",
        "        return image, label"
      ],
      "execution_count": 0,
      "outputs": []
    },
    {
      "metadata": {
        "id": "L4kCzTdpGwOj",
        "colab_type": "code",
        "outputId": "d0f47957-f18e-4283-d9d3-465769fdb10d",
        "colab": {
          "base_uri": "https://localhost:8080/",
          "height": 71
        }
      },
      "cell_type": "code",
      "source": [
        "transform = transforms.Compose([transforms.ToTensor(), transforms.Normalize((0.5,),(0.5,))])\n",
        "train_set = EarthQuakeDataset(train = True, both_path = local_download_path, transform = transform)\n",
        "test_set = EarthQuakeDataset(train = False, both_path = local_download_path, transform = transform)\n"
      ],
      "execution_count": 11,
      "outputs": [
        {
          "output_type": "stream",
          "text": [
            "/usr/local/lib/python3.6/dist-packages/ipykernel_launcher.py:18: ParserWarning: Falling back to the 'python' engine because the separator encoded in utf-8 is > 1 char long, and the 'c' engine does not support such separators; you can avoid this warning by specifying engine='python'.\n",
            "/usr/local/lib/python3.6/dist-packages/ipykernel_launcher.py:18: ParserWarning: Falling back to the 'python' engine because the separator encoded in utf-8 is > 1 char long, and the 'c' engine does not support such separators; you can avoid this warning by specifying engine='python'.\n"
          ],
          "name": "stderr"
        }
      ]
    },
    {
      "metadata": {
        "id": "YAgnIY83GwOn",
        "colab_type": "code",
        "colab": {}
      },
      "cell_type": "code",
      "source": [
        "#DataLoader takes in a dataset and a sampler for loading (num_workers deals with system level memory) \n",
        "def get_train_loader(batch_size):\n",
        "    train_loader = torch.utils.data.DataLoader(train_set, batch_size=batch_size, num_workers=2)\n",
        "    return(train_loader)"
      ],
      "execution_count": 0,
      "outputs": []
    },
    {
      "metadata": {
        "id": "7oqfnGGOGwOp",
        "colab_type": "code",
        "colab": {}
      },
      "cell_type": "code",
      "source": [
        "#Test loader has constant batch sizes, so we can define it directly\n",
        "test_loader = torch.utils.data.DataLoader(test_set, batch_size=20, num_workers=2)"
      ],
      "execution_count": 0,
      "outputs": []
    },
    {
      "metadata": {
        "id": "w1zdAmFAGwOs",
        "colab_type": "code",
        "colab": {}
      },
      "cell_type": "code",
      "source": [
        "import torch.optim as optim\n",
        "\n",
        "def createLossAndOptimizer(net, learning_rate=0.001):\n",
        "    \n",
        "    #Loss function\n",
        "    loss = torch.nn.BCELoss()\n",
        "    \n",
        "    #Optimizer\n",
        "    optimizer = optim.Adam(net.parameters(), lr=learning_rate)\n",
        "    \n",
        "    return(loss, optimizer)"
      ],
      "execution_count": 0,
      "outputs": []
    },
    {
      "metadata": {
        "id": "1GK4ZyphGwOv",
        "colab_type": "code",
        "colab": {}
      },
      "cell_type": "code",
      "source": [
        "from torch.autograd import Variable\n",
        "import torch.nn.functional as F\n",
        "\n",
        "class SimpleCNN(torch.nn.Module):\n",
        "    \n",
        "    #Our batch shape for input x is (1, 82, 82)\n",
        "    \n",
        "    def __init__(self):\n",
        "        super(SimpleCNN, self).__init__()\n",
        "        \n",
        "        #Input channels = 1, output channels = 18\n",
        "        self.conv1 = torch.nn.Conv2d(1, 18, kernel_size=3, stride=1, padding=1)\n",
        "        self.pool = torch.nn.MaxPool2d(kernel_size=2, stride=2, padding=0)\n",
        "        \n",
        "        #4608 input features, 64 output features (see sizing flow below)\n",
        "        self.fc1 = torch.nn.Linear(18 * 41 * 41, 64)\n",
        "        \n",
        "        self.bn1 = torch.nn.BatchNorm1d(64)\n",
        "        \n",
        "        #64 input features, 10 output features for our 10 defined classes\n",
        "        self.dropout1 = torch.nn.Dropout(p = 0.9)\n",
        "        self.fc2 = torch.nn.Linear(64, 1)\n",
        "        \n",
        "        self.sigmoid = torch.nn.Sigmoid()\n",
        "        \n",
        "    def forward(self, x):\n",
        "        \n",
        "        #Computes the activation of the first convolution\n",
        "        #Size changes from (1, 82, 82) to (18, 82, 82)\n",
        "        x = F.relu(self.conv1(x))\n",
        "        \n",
        "        #Size changes from (18, 82, 82) to (18, 41, 41)\n",
        "        x = self.pool(x)\n",
        "        \n",
        "        #Reshape data to input to the input layer of the neural net\n",
        "        #Size changes from (18, 41, 41) to (1, 30258)\n",
        "        #Recall that the -1 infers this dimension from the other given dimension\n",
        "        x = x.view(-1, 18 * 41 *41)\n",
        "        \n",
        "        #Computes the activation of the first fully connected layer\n",
        "        #Size changes from (1, 30258) to (1, 64)\n",
        "        x = F.relu(self.bn1(self.fc1(x)))\n",
        "        \n",
        "        #Computes the second fully connected layer (activation applied later)\n",
        "        #Size changes from (1, 64) to (1, 20)\n",
        "        x = self.fc2(self.dropout1(x))\n",
        "        \n",
        "        x = self.sigmoid(x)\n",
        "        return(x)"
      ],
      "execution_count": 0,
      "outputs": []
    },
    {
      "metadata": {
        "id": "VqNVNQUDGwO9",
        "colab_type": "code",
        "colab": {}
      },
      "cell_type": "code",
      "source": [
        "import time\n",
        "\n",
        "device = torch.device(\"cuda\" if torch.cuda.is_available() else \"cpu\")\n",
        "def trainNet(net, batch_size, n_epochs, learning_rate):\n",
        "    \n",
        "    #Print all of the hyperparameters of the training iteration:\n",
        "    print(\"===== HYPERPARAMETERS =====\")\n",
        "    print(\"batch_size=\", batch_size)\n",
        "    print(\"epochs=\", n_epochs)\n",
        "    print(\"learning_rate=\", learning_rate)\n",
        "    print(\"=\" * 30)\n",
        "    \n",
        "    #Get training data\n",
        "    train_loader = get_train_loader(batch_size)\n",
        "    n_batches = len(train_loader)\n",
        "    \n",
        "    #Create our loss and optimizer functions\n",
        "    loss, optimizer = createLossAndOptimizer(net, learning_rate)\n",
        "    \n",
        "    #Time for printing\n",
        "    training_start_time = time.time()\n",
        "    \n",
        "    #Loop for n_epochs\n",
        "    test_losses = []\n",
        "    train_losses = []\n",
        "    for epoch in range(n_epochs):\n",
        "        \n",
        "        running_loss = 0.0\n",
        "        print_every = n_batches // 10\n",
        "        start_time = time.time()\n",
        "        total_train_loss = 0\n",
        "        \n",
        "        for i, data in enumerate(train_loader):\n",
        "            \n",
        "            #Get inputs\n",
        "            inputs, labels = data\n",
        "            inputs = inputs.view((inputs.shape[0],1, inputs.shape[2], inputs.shape[2]))\n",
        "            \n",
        "            #Wrap them in a Variable object\n",
        "            inputs, labels = Variable(inputs), Variable(labels.type(torch.FloatTensor))\n",
        "            \n",
        "            #Set the parameter gradients to zero\n",
        "            optimizer.zero_grad()\n",
        "            \n",
        "            #Forward pass, backward pass, optimize\n",
        "            inputs = inputs.to(device)\n",
        "            outputs = net(inputs)\n",
        "            labels = labels.to(device)\n",
        "            outputs = outputs.to(device)\n",
        "            loss_size = loss(outputs, labels)\n",
        "            loss_size.backward()\n",
        "            optimizer.step()\n",
        "            \n",
        "            #Print statistics\n",
        "            running_loss += loss_size.data.item()\n",
        "            total_train_loss += loss_size.data.item()\n",
        "            \n",
        "            #Print every 10th batch of an epoch\n",
        "            if (i + 1) % (print_every + 1) == 0:\n",
        "                print(\"Epoch {}, {:d}% \\t train_loss: {:.2f} took: {:.2f}s\".format(\n",
        "                        epoch+1, int(100 * (i+1) / n_batches), running_loss / print_every, time.time() - start_time))\n",
        "                #Reset running loss and time\n",
        "                running_loss = 0.0\n",
        "                start_time = time.time()\n",
        "            \n",
        "        train_losses.append(total_train_loss/len(train_loader))\n",
        "        #At the end of the epoch, do a pass on the validation set\n",
        "        total_test_loss = 0\n",
        "        for inputs, labels in test_loader:\n",
        "            \n",
        "            #Wrap tensors in Variables\n",
        "            inputs = inputs.view((inputs.shape[0],1, inputs.shape[2], inputs.shape[2]))\n",
        "            inputs, labels = Variable(inputs), Variable(labels.type(torch.FloatTensor))\n",
        "            \n",
        "            #Forward pass\n",
        "            inputs = inputs.to(device)\n",
        "            labels = labels.to(device)\n",
        "            test_outputs = net(inputs)\n",
        "            test_outputs = test_outputs.to(device)\n",
        "            test_loss_size = loss(test_outputs, labels)\n",
        "            total_test_loss += test_loss_size.data.item()\n",
        "            \n",
        "        print(\"Test loss = {:.2f}\".format(total_test_loss / len(test_loader)))\n",
        "        test_losses.append(total_test_loss / len(test_loader))\n",
        "        \n",
        "    print(\"Training finished, took {:.2f}s\".format(time.time() - training_start_time))\n",
        "    plt.plot(range(len(train_losses)), train_losses)\n",
        "    plt.plot(range(len(train_losses)), test_losses)\n",
        "    plt.show()\n",
        "    return train_losses, test_losses, optimizer"
      ],
      "execution_count": 0,
      "outputs": []
    },
    {
      "metadata": {
        "id": "KOcjV_CDGwPA",
        "colab_type": "code",
        "outputId": "bebd4793-2634-46b5-b61c-9a58f4901665",
        "colab": {
          "base_uri": "https://localhost:8080/",
          "height": 3903
        }
      },
      "cell_type": "code",
      "source": [
        "CNN = SimpleCNN()\n",
        "CNN.to(device)\n",
        "tr, te ,optim = trainNet(CNN, batch_size=80, n_epochs=150, learning_rate=0.0001)"
      ],
      "execution_count": 49,
      "outputs": [
        {
          "output_type": "stream",
          "text": [
            "===== HYPERPARAMETERS =====\n",
            "batch_size= 20\n",
            "epochs= 20\n",
            "learning_rate= 0.0001\n",
            "==============================\n"
          ],
          "name": "stdout"
        },
        {
          "output_type": "stream",
          "text": [
            "/usr/local/lib/python3.6/dist-packages/torch/nn/functional.py:2016: UserWarning: Using a target size (torch.Size([20])) that is different to the input size (torch.Size([20, 1])) is deprecated. Please ensure they have the same size.\n",
            "  \"Please ensure they have the same size.\".format(target.size(), input.size()))\n"
          ],
          "name": "stderr"
        },
        {
          "output_type": "stream",
          "text": [
            "Epoch 1, 10% \t train_loss: 0.67 took: 0.50s\n",
            "Epoch 1, 20% \t train_loss: 0.58 took: 0.36s\n",
            "Epoch 1, 30% \t train_loss: 0.57 took: 0.34s\n",
            "Epoch 1, 40% \t train_loss: 0.54 took: 0.35s\n",
            "Epoch 1, 50% \t train_loss: 0.52 took: 0.39s\n",
            "Epoch 1, 61% \t train_loss: 0.52 took: 0.42s\n",
            "Epoch 1, 71% \t train_loss: 0.51 took: 0.42s\n",
            "Epoch 1, 81% \t train_loss: 0.49 took: 0.43s\n",
            "Epoch 1, 91% \t train_loss: 0.50 took: 0.41s\n",
            "Test loss = 0.46\n",
            "Epoch 2, 10% \t train_loss: 0.48 took: 0.53s\n",
            "Epoch 2, 20% \t train_loss: 0.47 took: 0.42s\n",
            "Epoch 2, 30% \t train_loss: 0.45 took: 0.42s\n",
            "Epoch 2, 40% \t train_loss: 0.45 took: 0.43s\n",
            "Epoch 2, 50% \t train_loss: 0.45 took: 0.42s\n",
            "Epoch 2, 61% \t train_loss: 0.45 took: 0.43s\n",
            "Epoch 2, 71% \t train_loss: 0.45 took: 0.42s\n",
            "Epoch 2, 81% \t train_loss: 0.44 took: 0.42s\n",
            "Epoch 2, 91% \t train_loss: 0.44 took: 0.43s\n",
            "Test loss = 0.41\n",
            "Epoch 3, 10% \t train_loss: 0.43 took: 0.52s\n",
            "Epoch 3, 20% \t train_loss: 0.40 took: 0.42s\n",
            "Epoch 3, 30% \t train_loss: 0.42 took: 0.42s\n",
            "Epoch 3, 40% \t train_loss: 0.40 took: 0.42s\n",
            "Epoch 3, 50% \t train_loss: 0.40 took: 0.44s\n",
            "Epoch 3, 61% \t train_loss: 0.40 took: 0.42s\n",
            "Epoch 3, 71% \t train_loss: 0.38 took: 0.44s\n",
            "Epoch 3, 81% \t train_loss: 0.39 took: 0.42s\n",
            "Epoch 3, 91% \t train_loss: 0.39 took: 0.43s\n",
            "Test loss = 0.37\n",
            "Epoch 4, 10% \t train_loss: 0.37 took: 0.53s\n",
            "Epoch 4, 20% \t train_loss: 0.36 took: 0.41s\n",
            "Epoch 4, 30% \t train_loss: 0.38 took: 0.43s\n",
            "Epoch 4, 40% \t train_loss: 0.37 took: 0.42s\n",
            "Epoch 4, 50% \t train_loss: 0.36 took: 0.42s\n",
            "Epoch 4, 61% \t train_loss: 0.38 took: 0.42s\n",
            "Epoch 4, 71% \t train_loss: 0.36 took: 0.45s\n",
            "Epoch 4, 81% \t train_loss: 0.35 took: 0.45s\n",
            "Epoch 4, 91% \t train_loss: 0.35 took: 0.42s\n",
            "Test loss = 0.36\n",
            "Epoch 5, 10% \t train_loss: 0.37 took: 0.54s\n",
            "Epoch 5, 20% \t train_loss: 0.35 took: 0.41s\n",
            "Epoch 5, 30% \t train_loss: 0.35 took: 0.42s\n",
            "Epoch 5, 40% \t train_loss: 0.34 took: 0.43s\n",
            "Epoch 5, 50% \t train_loss: 0.34 took: 0.42s\n",
            "Epoch 5, 61% \t train_loss: 0.35 took: 0.43s\n",
            "Epoch 5, 71% \t train_loss: 0.33 took: 0.42s\n",
            "Epoch 5, 81% \t train_loss: 0.33 took: 0.43s\n",
            "Epoch 5, 91% \t train_loss: 0.34 took: 0.42s\n",
            "Test loss = 0.34\n",
            "Epoch 6, 10% \t train_loss: 0.33 took: 0.52s\n",
            "Epoch 6, 20% \t train_loss: 0.33 took: 0.42s\n",
            "Epoch 6, 30% \t train_loss: 0.33 took: 0.41s\n",
            "Epoch 6, 40% \t train_loss: 0.31 took: 0.44s\n",
            "Epoch 6, 50% \t train_loss: 0.31 took: 0.42s\n",
            "Epoch 6, 61% \t train_loss: 0.34 took: 0.42s\n",
            "Epoch 6, 71% \t train_loss: 0.32 took: 0.43s\n",
            "Epoch 6, 81% \t train_loss: 0.32 took: 0.42s\n",
            "Epoch 6, 91% \t train_loss: 0.32 took: 0.44s\n",
            "Test loss = 0.32\n",
            "Epoch 7, 10% \t train_loss: 0.32 took: 0.52s\n",
            "Epoch 7, 20% \t train_loss: 0.31 took: 0.41s\n",
            "Epoch 7, 30% \t train_loss: 0.32 took: 0.43s\n",
            "Epoch 7, 40% \t train_loss: 0.29 took: 0.44s\n",
            "Epoch 7, 50% \t train_loss: 0.29 took: 0.44s\n",
            "Epoch 7, 61% \t train_loss: 0.33 took: 0.42s\n",
            "Epoch 7, 71% \t train_loss: 0.30 took: 0.44s\n",
            "Epoch 7, 81% \t train_loss: 0.30 took: 0.42s\n",
            "Epoch 7, 91% \t train_loss: 0.30 took: 0.44s\n",
            "Test loss = 0.31\n",
            "Epoch 8, 10% \t train_loss: 0.31 took: 0.54s\n",
            "Epoch 8, 20% \t train_loss: 0.30 took: 0.42s\n",
            "Epoch 8, 30% \t train_loss: 0.31 took: 0.44s\n",
            "Epoch 8, 40% \t train_loss: 0.29 took: 0.44s\n",
            "Epoch 8, 50% \t train_loss: 0.30 took: 0.43s\n",
            "Epoch 8, 61% \t train_loss: 0.33 took: 0.43s\n",
            "Epoch 8, 71% \t train_loss: 0.28 took: 0.42s\n",
            "Epoch 8, 81% \t train_loss: 0.32 took: 0.43s\n",
            "Epoch 8, 91% \t train_loss: 0.31 took: 0.42s\n",
            "Test loss = 0.30\n",
            "Epoch 9, 10% \t train_loss: 0.30 took: 0.53s\n",
            "Epoch 9, 20% \t train_loss: 0.29 took: 0.41s\n",
            "Epoch 9, 30% \t train_loss: 0.29 took: 0.41s\n",
            "Epoch 9, 40% \t train_loss: 0.28 took: 0.44s\n",
            "Epoch 9, 50% \t train_loss: 0.28 took: 0.43s\n",
            "Epoch 9, 61% \t train_loss: 0.32 took: 0.42s\n",
            "Epoch 9, 71% \t train_loss: 0.29 took: 0.43s\n",
            "Epoch 9, 81% \t train_loss: 0.28 took: 0.44s\n",
            "Epoch 9, 91% \t train_loss: 0.27 took: 0.46s\n",
            "Test loss = 0.28\n",
            "Epoch 10, 10% \t train_loss: 0.26 took: 0.53s\n",
            "Epoch 10, 20% \t train_loss: 0.27 took: 0.43s\n",
            "Epoch 10, 30% \t train_loss: 0.27 took: 0.43s\n",
            "Epoch 10, 40% \t train_loss: 0.26 took: 0.43s\n",
            "Epoch 10, 50% \t train_loss: 0.29 took: 0.44s\n",
            "Epoch 10, 61% \t train_loss: 0.30 took: 0.43s\n",
            "Epoch 10, 71% \t train_loss: 0.27 took: 0.45s\n",
            "Epoch 10, 81% \t train_loss: 0.27 took: 0.42s\n",
            "Epoch 10, 91% \t train_loss: 0.27 took: 0.44s\n",
            "Test loss = 0.28\n",
            "Epoch 11, 10% \t train_loss: 0.27 took: 0.52s\n",
            "Epoch 11, 20% \t train_loss: 0.28 took: 0.41s\n",
            "Epoch 11, 30% \t train_loss: 0.28 took: 0.44s\n",
            "Epoch 11, 40% \t train_loss: 0.25 took: 0.42s\n",
            "Epoch 11, 50% \t train_loss: 0.25 took: 0.44s\n",
            "Epoch 11, 61% \t train_loss: 0.30 took: 0.44s\n",
            "Epoch 11, 71% \t train_loss: 0.26 took: 0.44s\n",
            "Epoch 11, 81% \t train_loss: 0.27 took: 0.42s\n",
            "Epoch 11, 91% \t train_loss: 0.26 took: 0.43s\n",
            "Test loss = 0.28\n",
            "Epoch 12, 10% \t train_loss: 0.26 took: 0.53s\n",
            "Epoch 12, 20% \t train_loss: 0.27 took: 0.41s\n",
            "Epoch 12, 30% \t train_loss: 0.26 took: 0.43s\n",
            "Epoch 12, 40% \t train_loss: 0.24 took: 0.43s\n",
            "Epoch 12, 50% \t train_loss: 0.25 took: 0.43s\n",
            "Epoch 12, 61% \t train_loss: 0.29 took: 0.44s\n",
            "Epoch 12, 71% \t train_loss: 0.26 took: 0.43s\n",
            "Epoch 12, 81% \t train_loss: 0.26 took: 0.45s\n",
            "Epoch 12, 91% \t train_loss: 0.25 took: 0.43s\n",
            "Test loss = 0.29\n",
            "Epoch 13, 10% \t train_loss: 0.25 took: 0.53s\n",
            "Epoch 13, 20% \t train_loss: 0.26 took: 0.41s\n",
            "Epoch 13, 30% \t train_loss: 0.26 took: 0.43s\n",
            "Epoch 13, 40% \t train_loss: 0.26 took: 0.44s\n",
            "Epoch 13, 50% \t train_loss: 0.25 took: 0.43s\n",
            "Epoch 13, 61% \t train_loss: 0.27 took: 0.44s\n",
            "Epoch 13, 71% \t train_loss: 0.25 took: 0.44s\n",
            "Epoch 13, 81% \t train_loss: 0.25 took: 0.43s\n",
            "Epoch 13, 91% \t train_loss: 0.24 took: 0.44s\n",
            "Test loss = 0.29\n",
            "Epoch 14, 10% \t train_loss: 0.28 took: 0.52s\n",
            "Epoch 14, 20% \t train_loss: 0.27 took: 0.44s\n",
            "Epoch 14, 30% \t train_loss: 0.25 took: 0.43s\n",
            "Epoch 14, 40% \t train_loss: 0.27 took: 0.44s\n",
            "Epoch 14, 50% \t train_loss: 0.25 took: 0.43s\n",
            "Epoch 14, 61% \t train_loss: 0.26 took: 0.43s\n",
            "Epoch 14, 71% \t train_loss: 0.25 took: 0.45s\n",
            "Epoch 14, 81% \t train_loss: 0.25 took: 0.43s\n",
            "Epoch 14, 91% \t train_loss: 0.24 took: 0.44s\n",
            "Test loss = 0.28\n",
            "Epoch 15, 10% \t train_loss: 0.25 took: 0.52s\n",
            "Epoch 15, 20% \t train_loss: 0.27 took: 0.42s\n",
            "Epoch 15, 30% \t train_loss: 0.24 took: 0.43s\n",
            "Epoch 15, 40% \t train_loss: 0.24 took: 0.43s\n",
            "Epoch 15, 50% \t train_loss: 0.25 took: 0.45s\n",
            "Epoch 15, 61% \t train_loss: 0.27 took: 0.43s\n",
            "Epoch 15, 71% \t train_loss: 0.26 took: 0.45s\n",
            "Epoch 15, 81% \t train_loss: 0.24 took: 0.44s\n",
            "Epoch 15, 91% \t train_loss: 0.23 took: 0.44s\n",
            "Test loss = 0.28\n",
            "Epoch 16, 10% \t train_loss: 0.25 took: 0.52s\n",
            "Epoch 16, 20% \t train_loss: 0.23 took: 0.42s\n",
            "Epoch 16, 30% \t train_loss: 0.23 took: 0.43s\n",
            "Epoch 16, 40% \t train_loss: 0.23 took: 0.43s\n",
            "Epoch 16, 50% \t train_loss: 0.24 took: 0.43s\n",
            "Epoch 16, 61% \t train_loss: 0.27 took: 0.42s\n",
            "Epoch 16, 71% \t train_loss: 0.23 took: 0.43s\n",
            "Epoch 16, 81% \t train_loss: 0.24 took: 0.45s\n",
            "Epoch 16, 91% \t train_loss: 0.22 took: 0.42s\n",
            "Test loss = 0.27\n",
            "Epoch 17, 10% \t train_loss: 0.24 took: 0.54s\n",
            "Epoch 17, 20% \t train_loss: 0.25 took: 0.41s\n",
            "Epoch 17, 30% \t train_loss: 0.24 took: 0.43s\n",
            "Epoch 17, 40% \t train_loss: 0.22 took: 0.44s\n",
            "Epoch 17, 50% \t train_loss: 0.25 took: 0.43s\n",
            "Epoch 17, 61% \t train_loss: 0.27 took: 0.44s\n",
            "Epoch 17, 71% \t train_loss: 0.24 took: 0.43s\n",
            "Epoch 17, 81% \t train_loss: 0.23 took: 0.44s\n",
            "Epoch 17, 91% \t train_loss: 0.21 took: 0.43s\n",
            "Test loss = 0.27\n",
            "Epoch 18, 10% \t train_loss: 0.24 took: 0.52s\n",
            "Epoch 18, 20% \t train_loss: 0.23 took: 0.43s\n",
            "Epoch 18, 30% \t train_loss: 0.24 took: 0.42s\n",
            "Epoch 18, 40% \t train_loss: 0.22 took: 0.44s\n",
            "Epoch 18, 50% \t train_loss: 0.24 took: 0.43s\n",
            "Epoch 18, 61% \t train_loss: 0.27 took: 0.43s\n",
            "Epoch 18, 71% \t train_loss: 0.24 took: 0.44s\n",
            "Epoch 18, 81% \t train_loss: 0.25 took: 0.42s\n",
            "Epoch 18, 91% \t train_loss: 0.21 took: 0.44s\n",
            "Test loss = 0.27\n",
            "Epoch 19, 10% \t train_loss: 0.23 took: 0.52s\n",
            "Epoch 19, 20% \t train_loss: 0.25 took: 0.44s\n",
            "Epoch 19, 30% \t train_loss: 0.24 took: 0.42s\n",
            "Epoch 19, 40% \t train_loss: 0.24 took: 0.43s\n",
            "Epoch 19, 50% \t train_loss: 0.23 took: 0.44s\n",
            "Epoch 19, 61% \t train_loss: 0.25 took: 0.43s\n",
            "Epoch 19, 71% \t train_loss: 0.24 took: 0.44s\n",
            "Epoch 19, 81% \t train_loss: 0.22 took: 0.43s\n",
            "Epoch 19, 91% \t train_loss: 0.22 took: 0.42s\n",
            "Test loss = 0.27\n",
            "Epoch 20, 10% \t train_loss: 0.24 took: 0.53s\n",
            "Epoch 20, 20% \t train_loss: 0.24 took: 0.41s\n",
            "Epoch 20, 30% \t train_loss: 0.22 took: 0.43s\n",
            "Epoch 20, 40% \t train_loss: 0.22 took: 0.43s\n",
            "Epoch 20, 50% \t train_loss: 0.22 took: 0.45s\n",
            "Epoch 20, 61% \t train_loss: 0.25 took: 0.43s\n",
            "Epoch 20, 71% \t train_loss: 0.24 took: 0.43s\n",
            "Epoch 20, 81% \t train_loss: 0.23 took: 0.44s\n",
            "Epoch 20, 91% \t train_loss: 0.20 took: 0.43s\n",
            "Test loss = 0.26\n",
            "Training finished, took 97.75s\n"
          ],
          "name": "stdout"
        },
        {
          "output_type": "display_data",
          "data": {
            "image/png": "[encoded data removed]",
            "text/plain": [
              "<Figure size 576x396 with 1 Axes>"
            ]
          },
          "metadata": {
            "tags": []
          }
        }
      ]
    },
    {
      "metadata": {
        "id": "YCrJVAivGwPF",
        "colab_type": "code",
        "outputId": "fb07c83d-941f-4519-d3f0-4f6d9a6aefce",
        "colab": {
          "base_uri": "https://localhost:8080/",
          "height": 258
        }
      },
      "cell_type": "code",
      "source": [
        "id = '1d8JBl_qAPf7eMzGvQp9jK1fJxNq-P3Wy' \n",
        "downloaded = drive.CreateFile({'id':id}) \n",
        "downloaded.GetContentFile('image_map.csv')  \n",
        "map_for_testing = pd.read_csv('image_map.csv', sep = '±')\n",
        "map_for_testing.head()"
      ],
      "execution_count": 42,
      "outputs": [
        {
          "output_type": "stream",
          "text": [
            "/usr/local/lib/python3.6/dist-packages/ipykernel_launcher.py:4: ParserWarning: Falling back to the 'python' engine because the separator encoded in utf-8 is > 1 char long, and the 'c' engine does not support such separators; you can avoid this warning by specifying engine='python'.\n",
            "  after removing the cwd from sys.path.\n"
          ],
          "name": "stderr"
        },
        {
          "output_type": "execute_result",
          "data": {
            "text/html": [
              "<div>\n",
              "<style scoped>\n",
              "    .dataframe tbody tr th:only-of-type {\n",
              "        vertical-align: middle;\n",
              "    }\n",
              "\n",
              "    .dataframe tbody tr th {\n",
              "        vertical-align: top;\n",
              "    }\n",
              "\n",
              "    .dataframe thead th {\n",
              "        text-align: right;\n",
              "    }\n",
              "</style>\n",
              "<table border=\"1\" class=\"dataframe\">\n",
              "  <thead>\n",
              "    <tr style=\"text-align: right;\">\n",
              "      <th></th>\n",
              "      <th>path</th>\n",
              "      <th>label</th>\n",
              "    </tr>\n",
              "  </thead>\n",
              "  <tbody>\n",
              "    <tr>\n",
              "      <th>0</th>\n",
              "      <td>trace-628-p0-2016-11-25_05-00-00_338620-y.png</td>\n",
              "      <td>1</td>\n",
              "    </tr>\n",
              "    <tr>\n",
              "      <th>1</th>\n",
              "      <td>mat_trace-624-2016-11-27_13-00-00_sample_34423...</td>\n",
              "      <td>0</td>\n",
              "    </tr>\n",
              "    <tr>\n",
              "      <th>2</th>\n",
              "      <td>mat_trace-624-2016-11-24_04-00-00_sample_11526...</td>\n",
              "      <td>0</td>\n",
              "    </tr>\n",
              "    <tr>\n",
              "      <th>3</th>\n",
              "      <td>mat_trace-624-2016-11-07_09-00-00_sample_12652...</td>\n",
              "      <td>0</td>\n",
              "    </tr>\n",
              "    <tr>\n",
              "      <th>4</th>\n",
              "      <td>mat_trace-620-2016-11-11_12-00-00_sample_11355...</td>\n",
              "      <td>0</td>\n",
              "    </tr>\n",
              "  </tbody>\n",
              "</table>\n",
              "</div>"
            ],
            "text/plain": [
              "                                                path  label\n",
              "0      trace-628-p0-2016-11-25_05-00-00_338620-y.png      1\n",
              "1  mat_trace-624-2016-11-27_13-00-00_sample_34423...      0\n",
              "2  mat_trace-624-2016-11-24_04-00-00_sample_11526...      0\n",
              "3  mat_trace-624-2016-11-07_09-00-00_sample_12652...      0\n",
              "4  mat_trace-620-2016-11-11_12-00-00_sample_11355...      0"
            ]
          },
          "metadata": {
            "tags": []
          },
          "execution_count": 42
        }
      ]
    },
    {
      "metadata": {
        "id": "VCWXEbgGGwPK",
        "colab_type": "code",
        "outputId": "a3b76b8e-bcc3-46b9-a957-5f43fdeb21d9",
        "colab": {}
      },
      "cell_type": "code",
      "source": [
        "import matplotlib.pyplot as plt\n",
        "rand_idx = np.random.randint(len(map_for_testing))\n",
        "path_for_random_img = local_download_path+'/'+map_for_testing.path[rand_idx]\n",
        "label_for_random_img = map_for_testing.label[rand_idx]\n",
        "\n",
        "# Need to crop an image from shape (83, 83) to (82, 82) because of convolutional layers\n",
        "image = mpimg.imread(path_for_random_img)[:-1, :-1]\n",
        "if label_for_random_img == 0:\n",
        "    print(\"=\" * 30)\n",
        "    print('Image of non-earthquake')\n",
        "    print(\"=\" * 30)\n",
        "elif label_for_random_img == 1:\n",
        "    print(\"=\" * 30)\n",
        "    print('Image of an earthquake')\n",
        "    print(\"=\" * 30)\n",
        "plt.imshow(image)\n",
        "\n",
        "image = torch.tensor(image)\n",
        "image = image.view((1,1, image.shape[1], image.shape[1]))\n",
        "res = CNN(image)\n"
      ],
      "execution_count": 0,
      "outputs": [
        {
          "output_type": "stream",
          "text": [
            "==============================\n",
            "Image of an earthquake\n",
            "==============================\n"
          ],
          "name": "stdout"
        },
        {
          "output_type": "display_data",
          "data": {
            "image/png": "[encoded data removed]",
            "text/plain": [
              "<Figure size 432x288 with 1 Axes>"
            ]
          },
          "metadata": {
            "tags": [],
            "needs_background": "light"
          }
        }
      ]
    },
    {
      "metadata": {
        "id": "dw4fmwe5GwPO",
        "colab_type": "code",
        "outputId": "18ffab0a-fb82-417b-aa7a-3d23cb7c7ba6",
        "colab": {
          "base_uri": "https://localhost:8080/",
          "height": 54
        }
      },
      "cell_type": "code",
      "source": [
        "from google.colab import drive\n",
        "drive.mount('/content/gdrive')"
      ],
      "execution_count": 63,
      "outputs": [
        {
          "output_type": "stream",
          "text": [
            "Drive already mounted at /content/gdrive; to attempt to forcibly remount, call drive.mount(\"/content/gdrive\", force_remount=True).\n"
          ],
          "name": "stdout"
        }
      ]
    },
    {
      "metadata": {
        "id": "A-6utAabLlqc",
        "colab_type": "code",
        "colab": {}
      },
      "cell_type": "code",
      "source": [
        "model_save_name = 'classifier.pt'\n",
        "path = F\"/content/gdrive/My Drive/Python_for_colab/quake/models/{model_save_name}\" \n",
        "torch.save(CNN.state_dict(), path)"
      ],
      "execution_count": 0,
      "outputs": []
    }
  ]
}