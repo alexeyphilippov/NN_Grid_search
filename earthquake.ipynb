{
 "cells": [
  {
   "cell_type": "code",
   "execution_count": 37,
   "metadata": {},
   "outputs": [],
   "source": [
    "import os\n",
    "import numpy as np\n",
    "import pandas as pd\n",
    "from random import shuffle\n",
    "import matplotlib.image as mpimg\n",
    "import torch\n",
    "import torchvision.transforms as transforms\n",
    "from torch.utils.data import Dataset\n",
    "from torch.utils.data.sampler import SubsetRandomSampler\n",
    "import matplotlib.pyplot as plt"
   ]
  },
  {
   "cell_type": "code",
   "execution_count": 2,
   "metadata": {},
   "outputs": [],
   "source": [
    "PATH_FOR_POS = '/Users/aleksejfilippov/Desktop/Python_projects/NN_for_Tanurkov/wavelet_img/quake'\n",
    "PATH_FOR_NEG = '/Users/aleksejfilippov/Desktop/Python_projects/NN_for_Tanurkov/wavelet_img/non-quake'\n",
    "PATH_FOR_BOTH = '/Users/aleksejfilippov/Desktop/Python_projects/NN_for_Tanurkov/wavelet_img/both'\n",
    "PATH_FOR_CSV_MAP = '/Users/aleksejfilippov/Desktop/Python_projects/NN_for_Tanurkov/wavelet_img/image_map.csv'"
   ]
  },
  {
   "cell_type": "code",
   "execution_count": 3,
   "metadata": {},
   "outputs": [],
   "source": [
    "# number_of_positives = len(os.listdir(PATH_FOR_POS))\n",
    "# number_of_negatives = len(os.listdir(PATH_FOR_NEG))\n",
    "\n",
    "# names_list = os.listdir(PATH_FOR_POS) + os.listdir(PATH_FOR_NEG)\n",
    "# labels = [1] * number_of_positives + [0] * number_of_negatives\n",
    "# samples = [(im, label) for im, label in zip(names_list, labels)]\n",
    "# shuffle(samples)\n",
    "\n",
    "# delimiter = '±'\n",
    "# with open(PATH_FOR_CSV_MAP, 'a') as the_file:\n",
    "#         the_file.write('path±label\\n')\n",
    "# for fname, label in samples:\n",
    "#     with open(PATH_FOR_CSV_MAP, 'a') as the_file:\n",
    "#         the_file.write(fname+delimiter+str(label)+'\\n')"
   ]
  },
  {
   "cell_type": "code",
   "execution_count": 3,
   "metadata": {},
   "outputs": [
    {
     "data": {
      "text/plain": [
       "<torch._C.Generator at 0x112eb5a70>"
      ]
     },
     "execution_count": 3,
     "metadata": {},
     "output_type": "execute_result"
    }
   ],
   "source": [
    "seed = 42\n",
    "np.random.seed(seed)\n",
    "torch.manual_seed(seed)"
   ]
  },
  {
   "cell_type": "code",
   "execution_count": 4,
   "metadata": {},
   "outputs": [
    {
     "name": "stdout",
     "output_type": "stream",
     "text": [
      "Total number of samles:  9484\n",
      "Number of positive samles:  2940\n",
      "Number of negative samles:  6544\n",
      "Train : 8040 samples\n",
      "Test : 1400 samples\n"
     ]
    }
   ],
   "source": [
    "PATH_FOR_POS = '/Users/aleksejfilippov/Desktop/Python_projects/NN_for_Tanurkov/wavelet_img/quake'\n",
    "PATH_FOR_NEG = '/Users/aleksejfilippov/Desktop/Python_projects/NN_for_Tanurkov/wavelet_img/non-quake'\n",
    "\n",
    "number_of_positives = len(os.listdir(PATH_FOR_POS))\n",
    "number_of_negatives = len(os.listdir(PATH_FOR_NEG))\n",
    "total_number = number_of_negatives + number_of_positives\n",
    "\n",
    "train_percent = 0.85\n",
    "validation_percent = 0.15  #out of train \n",
    "\n",
    "train_capacity = 8040\n",
    "test_capacity = 1400\n",
    "\n",
    "print('Total number of samles: ', number_of_negatives + number_of_positives)\n",
    "print('Number of positive samles: ', number_of_positives)\n",
    "print('Number of negative samles: ', number_of_negatives)\n",
    "print('Train : {} samples'.format(train_capacity))\n",
    "print('Test : {} samples'.format(test_capacity))"
   ]
  },
  {
   "cell_type": "code",
   "execution_count": 5,
   "metadata": {},
   "outputs": [],
   "source": [
    "class EarthQuakeDataset(Dataset):\n",
    "\n",
    "    def __init__(self, train:bool, both_path, map_path, transform=None):\n",
    "        \"\"\"\n",
    "        Args:\n",
    "            pos_dir (string): Directory with all the images with earthquakes.\n",
    "            neg_dir (string): Directory with all the images without earthquakes.\n",
    "            transform (callable, optional): Optional transform to be applied\n",
    "                on a sample.\n",
    "        \"\"\"\n",
    "        self.transform = transform\n",
    "        self.map_ = pd.read_csv(map_path, sep = '±')\n",
    "        self.map_.path = self.map_.path.apply(lambda x: both_path+'/'+x)\n",
    "        \n",
    "        if train:\n",
    "            self.img_paths = self.map_.path[:train_capacity]\n",
    "            self.labels = self.map_.label[:train_capacity]\n",
    "        elif train != True:\n",
    "            self.img_paths = self.map_.path[train_capacity:train_capacity+test_capacity].tolist()\n",
    "            self.labels = self.map_.label[train_capacity:train_capacity+test_capacity].tolist()\n",
    "        else:\n",
    "            raise Exception('Parameter train must be set bull')\n",
    "    def __len__(self):\n",
    "        return len(self.labels)\n",
    "\n",
    "    def __getitem__(self, idx):\n",
    "        \n",
    "        image = mpimg.imread(self.img_paths[idx])[:-1, :-1]\n",
    "        label = self.labels[idx]\n",
    "\n",
    "        return image, label"
   ]
  },
  {
   "cell_type": "code",
   "execution_count": 6,
   "metadata": {},
   "outputs": [
    {
     "name": "stderr",
     "output_type": "stream",
     "text": [
      "/anaconda3/lib/python3.7/site-packages/ipykernel_launcher.py:12: ParserWarning: Falling back to the 'python' engine because the separator encoded in utf-8 is > 1 char long, and the 'c' engine does not support such separators; you can avoid this warning by specifying engine='python'.\n",
      "  if sys.path[0] == '':\n"
     ]
    }
   ],
   "source": [
    "transform = transforms.Compose([transforms.ToTensor(), transforms.Normalize((0.5,),(0.5,))])\n",
    "train_set = EarthQuakeDataset(train = True, both_path = PATH_FOR_BOTH, map_path = PATH_FOR_CSV_MAP, transform = transform)\n",
    "test_set = EarthQuakeDataset(train = False, both_path = PATH_FOR_BOTH, map_path = PATH_FOR_CSV_MAP, transform = transform)\n"
   ]
  },
  {
   "cell_type": "code",
   "execution_count": 7,
   "metadata": {},
   "outputs": [],
   "source": [
    "#DataLoader takes in a dataset and a sampler for loading (num_workers deals with system level memory) \n",
    "def get_train_loader(batch_size):\n",
    "    train_loader = torch.utils.data.DataLoader(train_set, batch_size=batch_size, num_workers=2)\n",
    "    return(train_loader)"
   ]
  },
  {
   "cell_type": "code",
   "execution_count": 8,
   "metadata": {},
   "outputs": [],
   "source": [
    "#Test and validation loaders have constant batch sizes, so we can define them directly\n",
    "test_loader = torch.utils.data.DataLoader(test_set, batch_size=20, num_workers=2)"
   ]
  },
  {
   "cell_type": "code",
   "execution_count": 26,
   "metadata": {},
   "outputs": [],
   "source": [
    "import torch.optim as optim\n",
    "\n",
    "def createLossAndOptimizer(net, learning_rate=0.001):\n",
    "    \n",
    "    #Loss function\n",
    "    loss = torch.nn.functional.binary_cross_entropy\n",
    "    \n",
    "    #Optimizer\n",
    "    optimizer = optim.Adam(net.parameters(), lr=learning_rate)\n",
    "    \n",
    "    return(loss, optimizer)"
   ]
  },
  {
   "cell_type": "code",
   "execution_count": 27,
   "metadata": {},
   "outputs": [],
   "source": [
    "from torch.autograd import Variable\n",
    "import torch.nn.functional as F\n",
    "\n",
    "class SimpleCNN(torch.nn.Module):\n",
    "    \n",
    "    #Our batch shape for input x is (1, 82, 82)\n",
    "    \n",
    "    def __init__(self):\n",
    "        super(SimpleCNN, self).__init__()\n",
    "        \n",
    "        #Input channels = 1, output channels = 18\n",
    "        self.conv1 = torch.nn.Conv2d(1, 18, kernel_size=3, stride=1, padding=1)\n",
    "        self.pool = torch.nn.MaxPool2d(kernel_size=2, stride=2, padding=0)\n",
    "        \n",
    "        #4608 input features, 64 output features (see sizing flow below)\n",
    "        self.fc1 = torch.nn.Linear(18 * 41 * 41, 64)\n",
    "        \n",
    "        #64 input features, 10 output features for our 10 defined classes\n",
    "        self.fc2 = torch.nn.Linear(64, 1)\n",
    "        \n",
    "        self.sigmoid = torch.nn.Sigmoid()\n",
    "        \n",
    "    def forward(self, x):\n",
    "        \n",
    "        #Computes the activation of the first convolution\n",
    "        #Size changes from (1, 82, 82) to (18, 82, 82)\n",
    "        x = F.relu(self.conv1(x))\n",
    "        \n",
    "        #Size changes from (18, 82, 82) to (18, 41, 41)\n",
    "        x = self.pool(x)\n",
    "        \n",
    "        #Reshape data to input to the input layer of the neural net\n",
    "        #Size changes from (18, 41, 41) to (1, 30258)\n",
    "        #Recall that the -1 infers this dimension from the other given dimension\n",
    "        x = x.view(-1, 18 * 41 *41)\n",
    "        \n",
    "        #Computes the activation of the first fully connected layer\n",
    "        #Size changes from (1, 30258) to (1, 64)\n",
    "        x = F.relu(self.fc1(x))\n",
    "        \n",
    "        #Computes the second fully connected layer (activation applied later)\n",
    "        #Size changes from (1, 64) to (1, 20)\n",
    "        x = self.fc2(x)\n",
    "        \n",
    "        x = self.sigmoid(x)\n",
    "        return(x)"
   ]
  },
  {
   "cell_type": "code",
   "execution_count": 28,
   "metadata": {},
   "outputs": [],
   "source": [
    "net = SimpleCNN()\n",
    "train_loader = get_train_loader(20)\n",
    "n_batches = len(train_loader)\n",
    "learning_rate = 0.001\n",
    "#Create our loss and optimizer functions\n",
    "loss, optimizer = createLossAndOptimizer(net, learning_rate)"
   ]
  },
  {
   "cell_type": "code",
   "execution_count": null,
   "metadata": {},
   "outputs": [],
   "source": [
    "# dd = []\n",
    "# for i, data in enumerate(train_loader):\n",
    "#     if i<3:\n",
    "#         dd.append(data)\n",
    "#     else:break\n",
    "\n",
    "# inputs, labels = dd[0]\n",
    "# inputs = inputs.view((inputs.shape[0],1, inputs.shape[2], inputs.shape[2]))\n",
    "\n",
    "# #Wrap them in a Variable object\n",
    "# inputs, labels = Variable(inputs), Variable(labels)\n",
    "\n",
    "# #Set the parameter gradients to zero\n",
    "# optimizer.zero_grad()\n",
    "\n",
    "# #Forward pass, backward pass, optimize\n",
    "# outputs = net(inputs)\n",
    "# # loss_size = loss(outputs, labels)\n",
    "# labels, outputs"
   ]
  },
  {
   "cell_type": "code",
   "execution_count": 42,
   "metadata": {},
   "outputs": [],
   "source": [
    "import time\n",
    "\n",
    "def trainNet(net, batch_size, n_epochs, learning_rate):\n",
    "    \n",
    "    #Print all of the hyperparameters of the training iteration:\n",
    "    print(\"===== HYPERPARAMETERS =====\")\n",
    "    print(\"batch_size=\", batch_size)\n",
    "    print(\"epochs=\", n_epochs)\n",
    "    print(\"learning_rate=\", learning_rate)\n",
    "    print(\"=\" * 30)\n",
    "    \n",
    "    #Get training data\n",
    "    train_loader = get_train_loader(batch_size)\n",
    "    n_batches = len(train_loader)\n",
    "    \n",
    "    #Create our loss and optimizer functions\n",
    "    loss, optimizer = createLossAndOptimizer(net, learning_rate)\n",
    "    \n",
    "    #Time for printing\n",
    "    training_start_time = time.time()\n",
    "    \n",
    "    #Loop for n_epochs\n",
    "    test_losses = []\n",
    "    train_losses = []\n",
    "    for epoch in range(n_epochs):\n",
    "        \n",
    "        running_loss = 0.0\n",
    "        print_every = n_batches // 10\n",
    "        start_time = time.time()\n",
    "        total_train_loss = 0\n",
    "        \n",
    "        for i, data in enumerate(train_loader):\n",
    "            \n",
    "            #Get inputs\n",
    "            inputs, labels = data\n",
    "            inputs = inputs.view((inputs.shape[0],1, inputs.shape[2], inputs.shape[2]))\n",
    "            \n",
    "            #Wrap them in a Variable object\n",
    "            inputs, labels = Variable(inputs), Variable(labels.type(torch.FloatTensor))\n",
    "            \n",
    "            #Set the parameter gradients to zero\n",
    "            optimizer.zero_grad()\n",
    "            \n",
    "            #Forward pass, backward pass, optimize\n",
    "            outputs = net(inputs)\n",
    "            loss_size = loss(outputs, labels)\n",
    "            loss_size.backward()\n",
    "            optimizer.step()\n",
    "            \n",
    "            #Print statistics\n",
    "            running_loss += loss_size.data.item()\n",
    "            total_train_loss += loss_size.data.item()\n",
    "            \n",
    "            #Print every 10th batch of an epoch\n",
    "            if (i + 1) % (print_every + 1) == 0:\n",
    "                print(\"Epoch {}, {:d}% \\t train_loss: {:.2f} took: {:.2f}s\".format(\n",
    "                        epoch+1, int(100 * (i+1) / n_batches), running_loss / print_every, time.time() - start_time))\n",
    "                #Reset running loss and time\n",
    "                running_loss = 0.0\n",
    "                start_time = time.time()\n",
    "            \n",
    "        train_losses.append(total_train_loss/len(train_loader))\n",
    "        #At the end of the epoch, do a pass on the validation set\n",
    "        total_test_loss = 0\n",
    "        for inputs, labels in test_loader:\n",
    "            \n",
    "            #Wrap tensors in Variables\n",
    "            inputs = inputs.view((inputs.shape[0],1, inputs.shape[2], inputs.shape[2]))\n",
    "            inputs, labels = Variable(inputs), Variable(labels.type(torch.FloatTensor))\n",
    "            \n",
    "            #Forward pass\n",
    "            test_outputs = net(inputs)\n",
    "            test_loss_size = loss(test_outputs, labels)\n",
    "            total_test_loss += test_loss_size.data.item()\n",
    "            \n",
    "        print(\"Test loss = {:.2f}\".format(total_test_loss / len(test_loader)))\n",
    "        test_losses.append(total_test_loss / len(test_loader))\n",
    "        \n",
    "    print(\"Training finished, took {:.2f}s\".format(time.time() - training_start_time))\n",
    "    return train_losses, test_losses"
   ]
  },
  {
   "cell_type": "code",
   "execution_count": 43,
   "metadata": {},
   "outputs": [
    {
     "name": "stdout",
     "output_type": "stream",
     "text": [
      "===== HYPERPARAMETERS =====\n",
      "batch_size= 20\n",
      "epochs= 2\n",
      "learning_rate= 0.001\n",
      "==============================\n"
     ]
    },
    {
     "name": "stderr",
     "output_type": "stream",
     "text": [
      "/anaconda3/lib/python3.7/site-packages/torch/nn/functional.py:2016: UserWarning: Using a target size (torch.Size([20])) that is different to the input size (torch.Size([20, 1])) is deprecated. Please ensure they have the same size.\n",
      "  \"Please ensure they have the same size.\".format(target.size(), input.size()))\n"
     ]
    },
    {
     "name": "stdout",
     "output_type": "stream",
     "text": [
      "Epoch 1, 10% \t train_loss: 0.64 took: 4.64s\n",
      "Epoch 1, 20% \t train_loss: 0.60 took: 4.08s\n",
      "Epoch 1, 30% \t train_loss: 0.46 took: 4.02s\n",
      "Epoch 1, 40% \t train_loss: 0.43 took: 3.97s\n",
      "Epoch 1, 50% \t train_loss: 0.39 took: 3.98s\n",
      "Epoch 1, 61% \t train_loss: 0.42 took: 3.92s\n",
      "Epoch 1, 71% \t train_loss: 0.39 took: 4.07s\n",
      "Epoch 1, 81% \t train_loss: 0.41 took: 3.99s\n",
      "Epoch 1, 91% \t train_loss: 0.40 took: 4.00s\n",
      "Test loss = 0.35\n",
      "Epoch 2, 10% \t train_loss: 0.37 took: 4.07s\n",
      "Epoch 2, 20% \t train_loss: 0.38 took: 3.87s\n",
      "Epoch 2, 30% \t train_loss: 0.36 took: 4.00s\n",
      "Epoch 2, 40% \t train_loss: 0.32 took: 3.79s\n",
      "Epoch 2, 50% \t train_loss: 0.31 took: 4.39s\n",
      "Epoch 2, 61% \t train_loss: 0.37 took: 4.99s\n",
      "Epoch 2, 71% \t train_loss: 0.32 took: 5.20s\n",
      "Epoch 2, 81% \t train_loss: 0.36 took: 7.85s\n",
      "Epoch 2, 91% \t train_loss: 0.34 took: 8.77s\n",
      "Test loss = 0.32\n",
      "Training finished, took 98.12s\n"
     ]
    }
   ],
   "source": [
    "CNN = SimpleCNN()\n",
    "tr, te = trainNet(CNN, batch_size=20, n_epochs=2, learning_rate=0.001)"
   ]
  },
  {
   "cell_type": "code",
   "execution_count": 44,
   "metadata": {},
   "outputs": [
    {
     "data": {
      "image/png": "[encoded data removed]",
      "text/plain": [
       "<Figure size 432x288 with 1 Axes>"
      ]
     },
     "metadata": {
      "needs_background": "light"
     },
     "output_type": "display_data"
    }
   ],
   "source": [
    "plt.plot(range(len(tr)), tr)\n",
    "plt.plot(range(len(te)), te)\n",
    "plt.show()"
   ]
  },
  {
   "cell_type": "code",
   "execution_count": 43,
   "metadata": {},
   "outputs": [
    {
     "name": "stderr",
     "output_type": "stream",
     "text": [
      "/anaconda3/lib/python3.7/site-packages/ipykernel_launcher.py:1: ParserWarning: Falling back to the 'python' engine because the separator encoded in utf-8 is > 1 char long, and the 'c' engine does not support such separators; you can avoid this warning by specifying engine='python'.\n",
      "  \"\"\"Entry point for launching an IPython kernel.\n"
     ]
    },
    {
     "data": {
      "text/html": [
       "<div>\n",
       "<style scoped>\n",
       "    .dataframe tbody tr th:only-of-type {\n",
       "        vertical-align: middle;\n",
       "    }\n",
       "\n",
       "    .dataframe tbody tr th {\n",
       "        vertical-align: top;\n",
       "    }\n",
       "\n",
       "    .dataframe thead th {\n",
       "        text-align: right;\n",
       "    }\n",
       "</style>\n",
       "<table border=\"1\" class=\"dataframe\">\n",
       "  <thead>\n",
       "    <tr style=\"text-align: right;\">\n",
       "      <th></th>\n",
       "      <th>path</th>\n",
       "      <th>label</th>\n",
       "    </tr>\n",
       "  </thead>\n",
       "  <tbody>\n",
       "    <tr>\n",
       "      <th>0</th>\n",
       "      <td>trace-628-p0-2016-11-25_05-00-00_338620-y.png</td>\n",
       "      <td>1</td>\n",
       "    </tr>\n",
       "    <tr>\n",
       "      <th>1</th>\n",
       "      <td>mat_trace-624-2016-11-27_13-00-00_sample_34423...</td>\n",
       "      <td>0</td>\n",
       "    </tr>\n",
       "    <tr>\n",
       "      <th>2</th>\n",
       "      <td>mat_trace-624-2016-11-24_04-00-00_sample_11526...</td>\n",
       "      <td>0</td>\n",
       "    </tr>\n",
       "    <tr>\n",
       "      <th>3</th>\n",
       "      <td>mat_trace-624-2016-11-07_09-00-00_sample_12652...</td>\n",
       "      <td>0</td>\n",
       "    </tr>\n",
       "    <tr>\n",
       "      <th>4</th>\n",
       "      <td>mat_trace-620-2016-11-11_12-00-00_sample_11355...</td>\n",
       "      <td>0</td>\n",
       "    </tr>\n",
       "  </tbody>\n",
       "</table>\n",
       "</div>"
      ],
      "text/plain": [
       "                                                path  label\n",
       "0      trace-628-p0-2016-11-25_05-00-00_338620-y.png      1\n",
       "1  mat_trace-624-2016-11-27_13-00-00_sample_34423...      0\n",
       "2  mat_trace-624-2016-11-24_04-00-00_sample_11526...      0\n",
       "3  mat_trace-624-2016-11-07_09-00-00_sample_12652...      0\n",
       "4  mat_trace-620-2016-11-11_12-00-00_sample_11355...      0"
      ]
     },
     "execution_count": 43,
     "metadata": {},
     "output_type": "execute_result"
    }
   ],
   "source": [
    "map_for_testing = pd.read_csv(PATH_FOR_CSV_MAP, sep = '±')\n",
    "map_for_testing.head()"
   ]
  },
  {
   "cell_type": "code",
   "execution_count": 65,
   "metadata": {},
   "outputs": [
    {
     "name": "stdout",
     "output_type": "stream",
     "text": [
      "==============================\n",
      "Image of an earthquake\n",
      "==============================\n"
     ]
    },
    {
     "data": {
      "image/png": "[encoded data removed]",
      "text/plain": [
       "<Figure size 432x288 with 1 Axes>"
      ]
     },
     "metadata": {
      "needs_background": "light"
     },
     "output_type": "display_data"
    }
   ],
   "source": [
    "rand_idx = np.random.randint(len(map_for_testing))\n",
    "path_for_random_img = PATH_FOR_BOTH+'/'+map_for_testing.path[rand_idx]\n",
    "label_for_random_img = map_for_testing.label[rand_idx]\n",
    "\n",
    "# Need to crop an image from shape (83, 83) to (82, 82) because of convolutional layers\n",
    "image = mpimg.imread(path_for_random_img)[:-1, :-1]\n",
    "if label_for_random_img == 0:\n",
    "    print(\"=\" * 30)\n",
    "    print('Image of non-earthquake')\n",
    "    print(\"=\" * 30)\n",
    "elif label_for_random_img == 1:\n",
    "    print(\"=\" * 30)\n",
    "    print('Image of an earthquake')\n",
    "    print(\"=\" * 30)\n",
    "plt.imshow(image)\n",
    "\n",
    "image = torch.tensor(image)\n",
    "image = image.view((1,1, image.shape[1], image.shape[1]))\n",
    "res = CNN(image)\n"
   ]
  },
  {
   "cell_type": "code",
   "execution_count": 71,
   "metadata": {},
   "outputs": [
    {
     "data": {
      "text/plain": [
       "[-0.7195559144020081, 0.9980766177177429]"
      ]
     },
     "execution_count": 71,
     "metadata": {},
     "output_type": "execute_result"
    }
   ],
   "source": [
    "res.tolist()[0][]"
   ]
  },
  {
   "cell_type": "code",
   "execution_count": null,
   "metadata": {},
   "outputs": [],
   "source": []
  }
 ],
 "metadata": {
  "kernelspec": {
   "display_name": "Python 3",
   "language": "python",
   "name": "python3"
  },
  "language_info": {
   "codemirror_mode": {
    "name": "ipython",
    "version": 3
   },
   "file_extension": ".py",
   "mimetype": "text/x-python",
   "name": "python",
   "nbconvert_exporter": "python",
   "pygments_lexer": "ipython3",
   "version": "3.7.1"
  }
 },
 "nbformat": 4,
 "nbformat_minor": 2
}
